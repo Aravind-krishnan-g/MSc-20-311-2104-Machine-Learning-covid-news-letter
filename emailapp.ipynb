{
 "cells": [
  {
   "cell_type": "markdown",
   "metadata": {},
   "source": [
    "## IMPORTING LIBRARIES"
   ]
  },
  {
   "cell_type": "code",
   "execution_count": 23,
   "metadata": {},
   "outputs": [],
   "source": [
    "import pandas as pd\n",
    "import streamlit as st # web application framework\n",
    "\n",
    "# libraries for sending mail\n",
    "import smtplib\n",
    "from email.mime.multipart import MIMEMultipart\n",
    "from email.mime.text import MIMEText\n",
    "\n",
    "# to check validity of email addresses\n",
    "import validators "
   ]
  },
  {
   "cell_type": "markdown",
   "metadata": {},
   "source": [
    "## MAIN CODE"
   ]
  },
  {
   "cell_type": "code",
   "execution_count": 24,
   "metadata": {},
   "outputs": [],
   "source": [
    "class mail_generator:\n",
    "    \n",
    "    def __init__(self):\n",
    "        self.df=pd.read_csv(r'https://api.covid19india.org/csv/latest/state_wise_daily.csv') #load covid data\n",
    "        self.df['Date_YMD']=pd.to_datetime(self.df['Date_YMD']) # convert to pandas timestamp\n",
    "        self.df=self.df.drop(columns=['UN'],axis=0) # drop unnecessary column\n",
    "        # states names wiith their respective codes\n",
    "        self.codes={'India (overall)':'TT','Andaman and Nicobar Islands':'AN','Andhra Pradesh':'AP','Arunachal Pradesh':'AR',\n",
    "                    'Assam' :'AS','Bihar':'BR','Chandigarh':'CH', 'Chhattisgarh':'CT',\n",
    "                    'Dadra and Nagar Haveli':'DN','Daman and Diu':'DD','Delhi':'DL','Goa':'GA',\n",
    "                    'Gujarat':'GJ','Haryana':'HR','Himachal Pradesh':'HP','Jammu and Kashmir':'JK',\n",
    "                    'Jharkhand':'JH', 'Karnataka':'KA','Kerala':'KL','Ladakh':'LA','Lakshadweep':'LD',\n",
    "                    'Madhya Pradesh':'MP','Maharashtra':'MH','Manipur':'MN','Meghalaya':'ML','Mizoram':'MZ',\n",
    "                    'Nagaland':'NL','Orissa':'OR','Pondicherry':'PY','Punjab':'PB','Rajasthan':'RJ',\n",
    "                    'Sikkim':'SK','Tamil Nadu':'TN','Telangana':'TG','Tripura':'TR','Uttar Pradesh':'UP',\n",
    "                    'Uttarakhand':'UT','West Bengal':'WB'}\n",
    "    \n",
    "    # to get covid data regarding a particular region/state\n",
    "    def get_state_data(self,state_code):\n",
    "        \n",
    "        this_date=pd.Timestamp.now().date() # gets current date\n",
    "        if(any(self.df['Date_YMD'] == this_date)): # check whether data in current date is available\n",
    "            latest_data_available = True\n",
    "        else:\n",
    "            latest_data_available = False\n",
    "            \n",
    "        last_date=self.df['Date_YMD'][self.df.index[-1]] # gets latest available date\n",
    "        condition=(self.df['Date_YMD']==last_date)\n",
    "        datafr=self.df[condition].reset_index()\n",
    "        conf=datafr[state_code][0] # confirmed cases\n",
    "        recov=datafr[state_code][1] # recovered cases\n",
    "        death=datafr[state_code][2] # deceased cases\n",
    "        return  [conf,recov,death,last_date.strftime('%Y-%m-%d'),latest_data_available] \n",
    "        \n",
    "            \n",
    "        \n",
    "        \n",
    "    # to sent automated mail \n",
    "    def sent_email(self,address,html_file,state,date):\n",
    "        sender_address    = \"covid.news.letter.india@gmail.com\" \n",
    "        sender_password   = \"covidnewsletter\"\n",
    "        recipient_address = address\n",
    "        email_parts=address.split('@')\n",
    "        recipient_name=email_parts[0]\n",
    "        # Instance of MIMEMultipart\n",
    "        msg = MIMEMultipart()\n",
    "        msg['From'] = sender_address\n",
    "        msg['To'] = recipient_address\n",
    "        msg['Subject'] = \" Covid news letter \"\n",
    "        intro='Hello '+ recipient_name+','+' here is an update related to covid cases. '\n",
    "        body = \"Daily covid cases in \"+state+' as on '+date+\" :\"\n",
    "        msg.attach(MIMEText(intro,'plain'))\n",
    "        msg.attach(MIMEText(body,'plain'))\n",
    "        msg.attach(MIMEText(html_file,'html')) # covid data\n",
    "        \n",
    "        # connecting to server\n",
    "        try:\n",
    "            server = smtplib.SMTP('smtp.gmail.com', 587)\n",
    "            server.ehlo()\n",
    "            server.starttls()\n",
    "            server.login(sender_address, sender_password ) # login credentials\n",
    "            text = msg.as_string()\n",
    "            server.sendmail(sender_address, recipient_address, text)\n",
    "            st.success('Email sent successfully') # display success message\n",
    "            server.quit()\n",
    "        except:\n",
    "            st.error(\"SMPT server connection error\") # display error message\n",
    "            \n",
    "            \n",
    "    def display(self):\n",
    "        \n",
    "        st.title(\"Daily covid news letter\") # setting title\n",
    "        exp= st.beta_expander(\"About\") # 'About' section contains details about the project\n",
    "        exp.write(\" This project was done as a part of Msc-Problem solving with python course.\") \n",
    "        exp.write(\"You can check out the work at [github](https://github.com/Aravind-krishnan-g/MSc-20-311-2104-Machine-Learning-covid-news-letter)\")\n",
    "        \n",
    "        states=list(self.codes.keys()) # list of state names\n",
    "        state=st.selectbox('Select a state you want\\(You have an option to get overall India stats\\)',states)\n",
    "        data_collected = self.get_state_data(self.codes[state]) # getting covid data\n",
    "        if(state and not data_collected[-1]): \n",
    "            if st.checkbox('Check for today\\'s data'): # check for latest information\n",
    "                st.info('Today\\'s covid data is not available at the moment. Fetching the latest data from the server.')\n",
    "            \n",
    "        if(state):\n",
    "            address=st.text_input(\"Enter your mail id\") # enter email id\n",
    "            if(not validators.email(address) and address): st.error('Please enter a valid email address!!')\n",
    "            dict_data={'Confirmed':[str(data_collected[0])],\n",
    "                       'Recovered':[str(data_collected[1])],\n",
    "                       'Deceased' :[str(data_collected[2])]                     \n",
    "                       }\n",
    "            df=pd.DataFrame.from_dict(dict_data)\n",
    "            df.index=['Number of cases']\n",
    "            if(st.button('Send newsletter') and validators.email(address)):\n",
    "                with st.spinner('sending...'):\n",
    "                    self.sent_email(address,df.to_html(),state,data_collected[-2]) # sending email\n",
    "                \n",
    "        \n",
    "        \n",
    "        "
   ]
  },
  {
   "cell_type": "markdown",
   "metadata": {},
   "source": [
    "## DRIVER CODE"
   ]
  },
  {
   "cell_type": "code",
   "execution_count": 25,
   "metadata": {},
   "outputs": [],
   "source": [
    "class_obj=mail_generator() # creating class object\n",
    "class_obj.display() # running web app"
   ]
  }
 ],
 "metadata": {
  "kernelspec": {
   "display_name": "Python 3",
   "language": "python",
   "name": "python3"
  },
  "language_info": {
   "codemirror_mode": {
    "name": "ipython",
    "version": 3
   },
   "file_extension": ".py",
   "mimetype": "text/x-python",
   "name": "python",
   "nbconvert_exporter": "python",
   "pygments_lexer": "ipython3",
   "version": "3.8.3"
  }
 },
 "nbformat": 4,
 "nbformat_minor": 4
}
